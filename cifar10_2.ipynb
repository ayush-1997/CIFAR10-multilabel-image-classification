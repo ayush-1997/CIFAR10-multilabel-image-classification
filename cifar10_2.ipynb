{
 "cells": [
  {
   "cell_type": "markdown",
   "metadata": {
    "colab_type": "text",
    "id": "BOu5Ge__66kj"
   },
   "source": [
    "**Importing necessary libraries** "
   ]
  },
  {
   "cell_type": "markdown",
   "metadata": {
    "colab_type": "text",
    "id": "6amQA-gUGoBj"
   },
   "source": [
    "**Notebook Summary**\n",
    "Problem: Object Recognition model for CIFAR10\n",
    "Environment: Jupyter,Keras\n",
    "\n",
    "Input: CIFAR10 dataset containing 10 classes of images with shape(32,32,3)\n",
    "Output: CNN multilabel classification model with 86.57% validation accuracy\n",
    "\n",
    "**Model architecture:** \n",
    "Total layers: 17\n",
    "Types of layers: Conv2d,Batch Normalization,MaxPool and Dropout(regularization)\n",
    "Total Epochs: 170\n",
    "\n",
    "\n",
    "\n"
   ]
  },
  {
   "cell_type": "code",
   "execution_count": 3,
   "metadata": {
    "colab": {
     "base_uri": "https://localhost:8080/",
     "height": 80
    },
    "colab_type": "code",
    "id": "3ESGfpCeVgHU",
    "outputId": "73191bce-6c14-4a10-f4b8-c9c7299ac8a4"
   },
   "outputs": [
    {
     "data": {
      "text/html": [
       "<p style=\"color: red;\">\n",
       "The default version of TensorFlow in Colab will soon switch to TensorFlow 2.x.<br>\n",
       "We recommend you <a href=\"https://www.tensorflow.org/guide/migrate\" target=\"_blank\">upgrade</a> now \n",
       "or ensure your notebook will continue to use TensorFlow 1.x via the <code>%tensorflow_version 1.x</code> magic:\n",
       "<a href=\"https://colab.research.google.com/notebooks/tensorflow_version.ipynb\" target=\"_blank\">more info</a>.</p>\n"
      ],
      "text/plain": [
       "<IPython.core.display.HTML object>"
      ]
     },
     "metadata": {
      "tags": []
     },
     "output_type": "display_data"
    },
    {
     "name": "stderr",
     "output_type": "stream",
     "text": [
      "Using TensorFlow backend.\n"
     ]
    }
   ],
   "source": [
    "import numpy as np # linear algebra\n",
    "import pandas as pd # data processing, CSV file I/O (e.g. pd.read_csv)\n",
    "\n",
    "# import backend\n",
    "import tensorflow as  tf\n",
    "\n",
    "# Model architecture\n",
    "from sklearn.model_selection import train_test_split\n",
    "from keras.models import Sequential\n",
    "from keras.layers import Dense, Dropout, Flatten, Conv2D\n",
    "from keras.layers import MaxPool2D, Activation, MaxPooling2D\n",
    "from keras.layers.normalization import BatchNormalization\n",
    "\n",
    "# Annealer\n",
    "from keras.callbacks import LearningRateScheduler\n",
    "\n",
    "# Data processing\n",
    "from keras.preprocessing.image import ImageDataGenerator\n",
    "from keras.utils import to_categorical\n",
    "from keras.preprocessing import image\n",
    "\n",
    "# Visualization\n",
    "import matplotlib.pyplot as plt\n",
    "import seaborn as sns\n",
    "\n",
    "\n",
    "# Progressor\n",
    "from tqdm import tqdm\n"
   ]
  },
  {
   "cell_type": "code",
   "execution_count": 0,
   "metadata": {
    "colab": {},
    "colab_type": "code",
    "id": "wLnjZVM_VgHe"
   },
   "outputs": [],
   "source": [
    "from keras.datasets import cifar10\n",
    "(x_train, y_train), (x_test, y_test) = cifar10.load_data()\n"
   ]
  },
  {
   "cell_type": "code",
   "execution_count": 6,
   "metadata": {
    "colab": {
     "base_uri": "https://localhost:8080/",
     "height": 85
    },
    "colab_type": "code",
    "id": "Gl5_qXrkVgHj",
    "outputId": "e18f7e87-f953-4e7a-fd8b-d409d9078f7e"
   },
   "outputs": [
    {
     "name": "stdout",
     "output_type": "stream",
     "text": [
      "(50000, 32, 32, 3)\n",
      "(50000, 1)\n",
      "(10000, 32, 32, 3)\n",
      "(10000, 1)\n"
     ]
    }
   ],
   "source": [
    "print(x_train.shape)\n",
    "print(y_train.shape)\n",
    "print(x_test.shape)\n",
    "print(y_test.shape)"
   ]
  },
  {
   "cell_type": "code",
   "execution_count": 0,
   "metadata": {
    "colab": {},
    "colab_type": "code",
    "id": "ETo6ku7gVgHp"
   },
   "outputs": [],
   "source": [
    "num_classes=10\n",
    "y_train =to_categorical(y_train, num_classes)\n",
    "y_test =to_categorical(y_test, num_classes)"
   ]
  },
  {
   "cell_type": "code",
   "execution_count": 8,
   "metadata": {
    "colab": {
     "base_uri": "https://localhost:8080/",
     "height": 85
    },
    "colab_type": "code",
    "id": "A86Ty_1GVgHv",
    "outputId": "40e16458-2431-4ae2-ec51-d53e10107b3b"
   },
   "outputs": [
    {
     "name": "stdout",
     "output_type": "stream",
     "text": [
      "(50000, 32, 32, 3)\n",
      "(50000, 10)\n",
      "(10000, 32, 32, 3)\n",
      "(10000, 10)\n"
     ]
    }
   ],
   "source": [
    "print(x_train.shape)\n",
    "print(y_train.shape)\n",
    "print(x_test.shape)\n",
    "print(y_test.shape)"
   ]
  },
  {
   "cell_type": "code",
   "execution_count": 0,
   "metadata": {
    "colab": {},
    "colab_type": "code",
    "id": "FkHfmFPGVgH2"
   },
   "outputs": [],
   "source": [
    "# Function to reshape and scaling image\n",
    "def Scale_Reshape(x):\n",
    "    x_min = x.min(axis=(1, 2), keepdims=True)\n",
    "    x_max = x.max(axis=(1, 2), keepdims=True)\n",
    "\n",
    "    x = (x - x_min)/(x_max-x_min)\n",
    "    \n",
    "    x = x.reshape(-1, 32, 32, 3)\n",
    "    return x"
   ]
  },
  {
   "cell_type": "code",
   "execution_count": 0,
   "metadata": {
    "colab": {},
    "colab_type": "code",
    "id": "gbrQBjfeVgH-"
   },
   "outputs": [],
   "source": [
    "# Training data processing\n",
    "x_train = Scale_Reshape(x_train)\n",
    "\n",
    "# Test data processing\n",
    "x_test = Scale_Reshape(x_test)\n"
   ]
  },
  {
   "cell_type": "code",
   "execution_count": 0,
   "metadata": {
    "colab": {},
    "colab_type": "code",
    "id": "QobtZGFIVgIN"
   },
   "outputs": [],
   "source": [
    "##17 layered network\n",
    "model = Sequential()\n",
    "\n",
    "model.add(Conv2D(32,  kernel_size = 3,kernel_initializer='he_normal', activation='relu', input_shape = (32, 32, 3)))\n",
    "model.add(BatchNormalization())\n",
    "model.add(Dropout(0.2))\n",
    "model.add(Conv2D(64, kernel_size = 3, kernel_initializer='he_normal', strides=1, activation='relu'))\n",
    "model.add(BatchNormalization())\n",
    "model.add(MaxPooling2D((2, 2)))\n",
    "model.add(Conv2D(128, kernel_size = 3, strides=1, kernel_initializer='he_normal' ,padding='same', activation='relu'))\n",
    "model.add(BatchNormalization())\n",
    "model.add(MaxPooling2D((2, 2)))\n",
    "model.add(Conv2D(64, kernel_size = 3,kernel_initializer='he_normal', activation='relu'))\n",
    "model.add(BatchNormalization())\n",
    "model.add(MaxPooling2D((2, 2)))\n",
    "model.add(Dropout(0.2))\n",
    "\n",
    "\n",
    "model.add(Flatten())\n",
    "model.add(Dense(512,kernel_initializer='he_normal', activation = \"relu\"))\n",
    "model.add(Dropout(0.2))\n",
    "model.add(Dense(10, kernel_initializer='glorot_uniform', activation = \"softmax\"))"
   ]
  },
  {
   "cell_type": "code",
   "execution_count": 13,
   "metadata": {
    "colab": {
     "base_uri": "https://localhost:8080/",
     "height": 819
    },
    "colab_type": "code",
    "id": "3DpRgaN_VgIg",
    "outputId": "873a08f1-fd96-4927-adba-e1d13642bc7d"
   },
   "outputs": [
    {
     "name": "stdout",
     "output_type": "stream",
     "text": [
      "WARNING:tensorflow:From /usr/local/lib/python3.6/dist-packages/keras/optimizers.py:793: The name tf.train.Optimizer is deprecated. Please use tf.compat.v1.train.Optimizer instead.\n",
      "\n",
      "WARNING:tensorflow:From /usr/local/lib/python3.6/dist-packages/keras/backend/tensorflow_backend.py:3576: The name tf.log is deprecated. Please use tf.math.log instead.\n",
      "\n",
      "Model: \"sequential_2\"\n",
      "_________________________________________________________________\n",
      "Layer (type)                 Output Shape              Param #   \n",
      "=================================================================\n",
      "conv2d_5 (Conv2D)            (None, 30, 30, 32)        896       \n",
      "_________________________________________________________________\n",
      "batch_normalization_5 (Batch (None, 30, 30, 32)        128       \n",
      "_________________________________________________________________\n",
      "dropout_4 (Dropout)          (None, 30, 30, 32)        0         \n",
      "_________________________________________________________________\n",
      "conv2d_6 (Conv2D)            (None, 28, 28, 64)        18496     \n",
      "_________________________________________________________________\n",
      "batch_normalization_6 (Batch (None, 28, 28, 64)        256       \n",
      "_________________________________________________________________\n",
      "max_pooling2d_4 (MaxPooling2 (None, 14, 14, 64)        0         \n",
      "_________________________________________________________________\n",
      "conv2d_7 (Conv2D)            (None, 14, 14, 128)       73856     \n",
      "_________________________________________________________________\n",
      "batch_normalization_7 (Batch (None, 14, 14, 128)       512       \n",
      "_________________________________________________________________\n",
      "max_pooling2d_5 (MaxPooling2 (None, 7, 7, 128)         0         \n",
      "_________________________________________________________________\n",
      "conv2d_8 (Conv2D)            (None, 5, 5, 64)          73792     \n",
      "_________________________________________________________________\n",
      "batch_normalization_8 (Batch (None, 5, 5, 64)          256       \n",
      "_________________________________________________________________\n",
      "max_pooling2d_6 (MaxPooling2 (None, 2, 2, 64)          0         \n",
      "_________________________________________________________________\n",
      "dropout_5 (Dropout)          (None, 2, 2, 64)          0         \n",
      "_________________________________________________________________\n",
      "flatten_2 (Flatten)          (None, 256)               0         \n",
      "_________________________________________________________________\n",
      "dense_3 (Dense)              (None, 512)               131584    \n",
      "_________________________________________________________________\n",
      "dropout_6 (Dropout)          (None, 512)               0         \n",
      "_________________________________________________________________\n",
      "dense_4 (Dense)              (None, 10)                5130      \n",
      "=================================================================\n",
      "Total params: 304,906\n",
      "Trainable params: 304,330\n",
      "Non-trainable params: 576\n",
      "_________________________________________________________________\n"
     ]
    }
   ],
   "source": [
    "model.compile(loss=\"categorical_crossentropy\", optimizer=\"Nadam\", metrics=[\"accuracy\"])\n",
    "\n",
    "# Summary of model\n",
    "model.summary()"
   ]
  },
  {
   "cell_type": "code",
   "execution_count": 0,
   "metadata": {
    "colab": {},
    "colab_type": "code",
    "id": "jEGGZONaVgIs"
   },
   "outputs": [],
   "source": [
    "datagen = ImageDataGenerator(\n",
    "        rotation_range=0,  \n",
    "        zoom_range = 0.0,  \n",
    "        width_shift_range=0.1, \n",
    "        height_shift_range=0.1,\n",
    "        horizontal_flip=False)\n",
    "\n",
    "# data generator model to train and validation set\n",
    "batch_size_1 = 32\n",
    "train_gen = datagen.flow(x_train, y_train, batch_size=batch_size_1)\n",
    "val_gen = datagen.flow(x_test, y_test, batch_size=batch_size_1)"
   ]
  },
  {
   "cell_type": "code",
   "execution_count": 17,
   "metadata": {
    "colab": {
     "base_uri": "https://localhost:8080/",
     "height": 496
    },
    "colab_type": "code",
    "id": "ES5UkDvgfyo1",
    "outputId": "bd826f1d-bdb2-4374-de70-f05735a9ffae"
   },
   "outputs": [
    {
     "name": "stdout",
     "output_type": "stream",
     "text": [
      "WARNING:tensorflow:From /usr/local/lib/python3.6/dist-packages/tensorflow_core/python/ops/math_grad.py:1424: where (from tensorflow.python.ops.array_ops) is deprecated and will be removed in a future version.\n",
      "Instructions for updating:\n",
      "Use tf.where in 2.0, which has the same broadcast rule as np.where\n",
      "WARNING:tensorflow:From /usr/local/lib/python3.6/dist-packages/keras/backend/tensorflow_backend.py:1033: The name tf.assign_add is deprecated. Please use tf.compat.v1.assign_add instead.\n",
      "\n",
      "WARNING:tensorflow:From /usr/local/lib/python3.6/dist-packages/keras/backend/tensorflow_backend.py:1020: The name tf.assign is deprecated. Please use tf.compat.v1.assign instead.\n",
      "\n",
      "Epoch 1/10\n",
      "1562/1562 [==============================] - 44s 28ms/step - loss: 1.5471 - acc: 0.4575 - val_loss: 1.2712 - val_acc: 0.5483\n",
      "Epoch 2/10\n",
      "1562/1562 [==============================] - 36s 23ms/step - loss: 1.1432 - acc: 0.6001 - val_loss: 1.0439 - val_acc: 0.6296\n",
      "Epoch 3/10\n",
      "1562/1562 [==============================] - 36s 23ms/step - loss: 0.9919 - acc: 0.6537 - val_loss: 0.9102 - val_acc: 0.6794\n",
      "Epoch 4/10\n",
      "1562/1562 [==============================] - 36s 23ms/step - loss: 0.9060 - acc: 0.6869 - val_loss: 0.9225 - val_acc: 0.6794\n",
      "Epoch 5/10\n",
      "1562/1562 [==============================] - 36s 23ms/step - loss: 0.8361 - acc: 0.7114 - val_loss: 0.7732 - val_acc: 0.7293\n",
      "Epoch 6/10\n",
      "1562/1562 [==============================] - 35s 23ms/step - loss: 0.7892 - acc: 0.7293 - val_loss: 0.8013 - val_acc: 0.7323\n",
      "Epoch 7/10\n",
      "1562/1562 [==============================] - 35s 23ms/step - loss: 0.7469 - acc: 0.7438 - val_loss: 0.7168 - val_acc: 0.7517\n",
      "Epoch 8/10\n",
      "1562/1562 [==============================] - 36s 23ms/step - loss: 0.7160 - acc: 0.7533 - val_loss: 0.7248 - val_acc: 0.7524\n",
      "Epoch 9/10\n",
      "1562/1562 [==============================] - 35s 23ms/step - loss: 0.6824 - acc: 0.7664 - val_loss: 0.6898 - val_acc: 0.7639\n",
      "Epoch 10/10\n",
      "1562/1562 [==============================] - 37s 24ms/step - loss: 0.6645 - acc: 0.7712 - val_loss: 0.7064 - val_acc: 0.7620\n"
     ]
    }
   ],
   "source": [
    "history = model.fit_generator(train_gen, \n",
    "                              epochs = 10, \n",
    "                              steps_per_epoch = x_train.shape[0] // batch_size_1,\n",
    "                              validation_data = val_gen,\n",
    "                              validation_steps = x_test.shape[0] // batch_size_1,\n",
    "                              verbose=1)"
   ]
  },
  {
   "cell_type": "code",
   "execution_count": 18,
   "metadata": {
    "colab": {
     "base_uri": "https://localhost:8080/",
     "height": 340
    },
    "colab_type": "code",
    "id": "ojCxQ_Se9nSa",
    "outputId": "df7be91a-97b6-4cdd-8a6d-12a9c77aca51"
   },
   "outputs": [
    {
     "name": "stdout",
     "output_type": "stream",
     "text": [
      "Epoch 1/10\n",
      "1562/1562 [==============================] - 36s 23ms/step - loss: 0.6356 - acc: 0.7805 - val_loss: 0.6945 - val_acc: 0.7677\n",
      "Epoch 2/10\n",
      "1562/1562 [==============================] - 36s 23ms/step - loss: 0.6227 - acc: 0.7873 - val_loss: 0.7172 - val_acc: 0.7545\n",
      "Epoch 3/10\n",
      "1562/1562 [==============================] - 35s 23ms/step - loss: 0.6042 - acc: 0.7904 - val_loss: 0.6472 - val_acc: 0.7833\n",
      "Epoch 4/10\n",
      "1560/1562 [============================>.] - ETA: 0s - loss: 0.5957 - acc: 0.7959Epoch 5/10\n",
      "1562/1562 [==============================] - 35s 22ms/step - loss: 0.5821 - acc: 0.8001 - val_loss: 0.6598 - val_acc: 0.7758\n",
      "Epoch 6/10\n",
      "1562/1562 [==============================] - 36s 23ms/step - loss: 0.5699 - acc: 0.8031 - val_loss: 0.6002 - val_acc: 0.7929\n",
      "Epoch 7/10\n",
      "1562/1562 [==============================] - 35s 23ms/step - loss: 0.5566 - acc: 0.8076 - val_loss: 0.5953 - val_acc: 0.8001\n",
      "Epoch 8/10\n",
      "1562/1562 [==============================] - 36s 23ms/step - loss: 0.5504 - acc: 0.8109 - val_loss: 0.6156 - val_acc: 0.7870\n",
      "Epoch 9/10\n",
      "1562/1562 [==============================] - 35s 22ms/step - loss: 0.5327 - acc: 0.8158 - val_loss: 0.6241 - val_acc: 0.7867\n",
      "Epoch 10/10\n",
      "1562/1562 [==============================] - 35s 22ms/step - loss: 0.5295 - acc: 0.8185 - val_loss: 0.7464 - val_acc: 0.7630\n"
     ]
    }
   ],
   "source": [
    "history = model.fit_generator(train_gen, \n",
    "                              epochs = 10, \n",
    "                              steps_per_epoch = x_train.shape[0] // batch_size_1,\n",
    "                              validation_data = val_gen,\n",
    "                              validation_steps = x_test.shape[0] // batch_size_1,\n",
    "                              verbose=1)"
   ]
  },
  {
   "cell_type": "code",
   "execution_count": 19,
   "metadata": {
    "colab": {
     "base_uri": "https://localhost:8080/",
     "height": 357
    },
    "colab_type": "code",
    "id": "KE7KAy6Q_EEl",
    "outputId": "935c8f25-ab0e-4bb5-b599-53cdf161336d"
   },
   "outputs": [
    {
     "name": "stdout",
     "output_type": "stream",
     "text": [
      "Epoch 1/10\n",
      "1562/1562 [==============================] - 35s 22ms/step - loss: 0.5209 - acc: 0.8198 - val_loss: 0.5463 - val_acc: 0.8136\n",
      "Epoch 2/10\n",
      "1562/1562 [==============================] - 35s 22ms/step - loss: 0.5208 - acc: 0.8199 - val_loss: 0.5727 - val_acc: 0.8114\n",
      "Epoch 3/10\n",
      "1562/1562 [==============================] - 35s 22ms/step - loss: 0.5078 - acc: 0.8260 - val_loss: 0.5652 - val_acc: 0.8101\n",
      "Epoch 4/10\n",
      "1562/1562 [==============================] - 35s 22ms/step - loss: 0.4960 - acc: 0.8295 - val_loss: 0.5636 - val_acc: 0.8118\n",
      "Epoch 5/10\n",
      "1562/1562 [==============================] - 34s 22ms/step - loss: 0.4872 - acc: 0.8325 - val_loss: 0.7558 - val_acc: 0.7655\n",
      "Epoch 6/10\n",
      "1562/1562 [==============================] - 35s 23ms/step - loss: 0.4827 - acc: 0.8354 - val_loss: 0.6182 - val_acc: 0.8000\n",
      "Epoch 7/10\n",
      "1562/1562 [==============================] - 35s 23ms/step - loss: 0.4814 - acc: 0.8345 - val_loss: 0.5733 - val_acc: 0.8099\n",
      "Epoch 8/10\n",
      "1562/1562 [==============================] - 35s 22ms/step - loss: 0.4731 - acc: 0.8362 - val_loss: 0.5859 - val_acc: 0.8002\n",
      "Epoch 9/10\n",
      "1562/1562 [==============================] - 36s 23ms/step - loss: 0.4701 - acc: 0.8388 - val_loss: 0.5581 - val_acc: 0.8123\n",
      "Epoch 10/10\n",
      "1562/1562 [==============================] - 35s 22ms/step - loss: 0.4620 - acc: 0.8436 - val_loss: 0.5481 - val_acc: 0.8131\n"
     ]
    }
   ],
   "source": [
    "history = model.fit_generator(train_gen, \n",
    "                              epochs = 10, \n",
    "                              steps_per_epoch = x_train.shape[0] // batch_size_1,\n",
    "                              validation_data = val_gen,\n",
    "                              validation_steps = x_test.shape[0] // batch_size_1,\n",
    "                              verbose=1)"
   ]
  },
  {
   "cell_type": "code",
   "execution_count": 20,
   "metadata": {
    "colab": {
     "base_uri": "https://localhost:8080/",
     "height": 357
    },
    "colab_type": "code",
    "id": "U4isVi2AAd3u",
    "outputId": "df4f3332-0602-4943-9f37-300b2bb6fbb6"
   },
   "outputs": [
    {
     "name": "stdout",
     "output_type": "stream",
     "text": [
      "Epoch 1/10\n",
      "1562/1562 [==============================] - 35s 23ms/step - loss: 0.4571 - acc: 0.8437 - val_loss: 0.5576 - val_acc: 0.8127\n",
      "Epoch 2/10\n",
      "1562/1562 [==============================] - 36s 23ms/step - loss: 0.4505 - acc: 0.8439 - val_loss: 0.5387 - val_acc: 0.8178\n",
      "Epoch 3/10\n",
      "1562/1562 [==============================] - 36s 23ms/step - loss: 0.4511 - acc: 0.8444 - val_loss: 0.5600 - val_acc: 0.8120\n",
      "Epoch 4/10\n",
      "1562/1562 [==============================] - 36s 23ms/step - loss: 0.4525 - acc: 0.8429 - val_loss: 0.5879 - val_acc: 0.8029\n",
      "Epoch 5/10\n",
      "1562/1562 [==============================] - 36s 23ms/step - loss: 0.4429 - acc: 0.8487 - val_loss: 0.5790 - val_acc: 0.8095\n",
      "Epoch 6/10\n",
      "1562/1562 [==============================] - 35s 23ms/step - loss: 0.4373 - acc: 0.8480 - val_loss: 0.5652 - val_acc: 0.8103\n",
      "Epoch 7/10\n",
      "1562/1562 [==============================] - 36s 23ms/step - loss: 0.4302 - acc: 0.8546 - val_loss: 0.5839 - val_acc: 0.8102\n",
      "Epoch 8/10\n",
      "1562/1562 [==============================] - 35s 23ms/step - loss: 0.4277 - acc: 0.8530 - val_loss: 0.5471 - val_acc: 0.8153\n",
      "Epoch 9/10\n",
      "1562/1562 [==============================] - 36s 23ms/step - loss: 0.4252 - acc: 0.8549 - val_loss: 0.5299 - val_acc: 0.8267\n",
      "Epoch 10/10\n",
      "1562/1562 [==============================] - 36s 23ms/step - loss: 0.4222 - acc: 0.8540 - val_loss: 0.5470 - val_acc: 0.8115\n"
     ]
    }
   ],
   "source": [
    "history = model.fit_generator(train_gen, \n",
    "                              epochs = 10, \n",
    "                              steps_per_epoch = x_train.shape[0] // batch_size_1,\n",
    "                              validation_data = val_gen,\n",
    "                              validation_steps = x_test.shape[0] // batch_size_1,\n",
    "                              verbose=1)"
   ]
  },
  {
   "cell_type": "code",
   "execution_count": 21,
   "metadata": {
    "colab": {
     "base_uri": "https://localhost:8080/",
     "height": 357
    },
    "colab_type": "code",
    "id": "lclgDrspB7Bw",
    "outputId": "bcc40df2-d96b-4280-fc92-2a8c0ed2135f"
   },
   "outputs": [
    {
     "name": "stdout",
     "output_type": "stream",
     "text": [
      "Epoch 1/10\n",
      "1562/1562 [==============================] - 36s 23ms/step - loss: 0.4146 - acc: 0.8574 - val_loss: 0.6129 - val_acc: 0.8047\n",
      "Epoch 2/10\n",
      "1562/1562 [==============================] - 36s 23ms/step - loss: 0.4222 - acc: 0.8540 - val_loss: 0.5287 - val_acc: 0.8264\n",
      "Epoch 3/10\n",
      "1562/1562 [==============================] - 36s 23ms/step - loss: 0.4106 - acc: 0.8576 - val_loss: 0.5356 - val_acc: 0.8212\n",
      "Epoch 4/10\n",
      "1562/1562 [==============================] - 36s 23ms/step - loss: 0.4110 - acc: 0.8579 - val_loss: 0.5252 - val_acc: 0.8224\n",
      "Epoch 5/10\n",
      "1562/1562 [==============================] - 36s 23ms/step - loss: 0.4010 - acc: 0.8622 - val_loss: 0.5773 - val_acc: 0.8104\n",
      "Epoch 6/10\n",
      "1562/1562 [==============================] - 36s 23ms/step - loss: 0.3974 - acc: 0.8632 - val_loss: 0.6140 - val_acc: 0.8055\n",
      "Epoch 7/10\n",
      "1562/1562 [==============================] - 35s 23ms/step - loss: 0.4027 - acc: 0.8620 - val_loss: 0.5129 - val_acc: 0.8269\n",
      "Epoch 8/10\n",
      "1562/1562 [==============================] - 36s 23ms/step - loss: 0.3970 - acc: 0.8619 - val_loss: 0.5569 - val_acc: 0.8171\n",
      "Epoch 9/10\n",
      "1562/1562 [==============================] - 35s 22ms/step - loss: 0.3912 - acc: 0.8657 - val_loss: 0.5189 - val_acc: 0.8256\n",
      "Epoch 10/10\n",
      "1562/1562 [==============================] - 35s 23ms/step - loss: 0.3855 - acc: 0.8674 - val_loss: 0.5656 - val_acc: 0.8212\n"
     ]
    }
   ],
   "source": [
    "history = model.fit_generator(train_gen, \n",
    "                              epochs = 10, \n",
    "                              steps_per_epoch = x_train.shape[0] // batch_size_1,\n",
    "                              validation_data = val_gen,\n",
    "                              validation_steps = x_test.shape[0] // batch_size_1,\n",
    "                              verbose=1)"
   ]
  },
  {
   "cell_type": "code",
   "execution_count": 22,
   "metadata": {
    "colab": {
     "base_uri": "https://localhost:8080/",
     "height": 1000
    },
    "colab_type": "code",
    "id": "8DoNgN2yDViw",
    "outputId": "7ecbb2f9-3c08-4343-ee62-6e7311165d20"
   },
   "outputs": [
    {
     "name": "stdout",
     "output_type": "stream",
     "text": [
      "Epoch 1/30\n",
      "1562/1562 [==============================] - 35s 22ms/step - loss: 0.3813 - acc: 0.8684 - val_loss: 0.5396 - val_acc: 0.8222\n",
      "Epoch 2/30\n",
      "1562/1562 [==============================] - 35s 22ms/step - loss: 0.3861 - acc: 0.8659 - val_loss: 0.5325 - val_acc: 0.8186\n",
      "Epoch 3/30\n",
      "1562/1562 [==============================] - 35s 22ms/step - loss: 0.3852 - acc: 0.8666 - val_loss: 0.5569 - val_acc: 0.8225\n",
      "Epoch 4/30\n",
      "1562/1562 [==============================] - 35s 23ms/step - loss: 0.3856 - acc: 0.8671 - val_loss: 0.5699 - val_acc: 0.8176\n",
      "Epoch 5/30\n",
      "1562/1562 [==============================] - 34s 22ms/step - loss: 0.3744 - acc: 0.8699 - val_loss: 0.5387 - val_acc: 0.8246\n",
      "Epoch 6/30\n",
      "1562/1562 [==============================] - 34s 22ms/step - loss: 0.3756 - acc: 0.8699 - val_loss: 0.5200 - val_acc: 0.8316\n",
      "Epoch 7/30\n",
      "1562/1562 [==============================] - 34s 22ms/step - loss: 0.3731 - acc: 0.8721 - val_loss: 0.5073 - val_acc: 0.8326\n",
      "Epoch 8/30\n",
      "1562/1562 [==============================] - 34s 22ms/step - loss: 0.3701 - acc: 0.8715 - val_loss: 0.5370 - val_acc: 0.8241\n",
      "Epoch 9/30\n",
      "1562/1562 [==============================] - 35s 22ms/step - loss: 0.3671 - acc: 0.8731 - val_loss: 0.5570 - val_acc: 0.8240\n",
      "Epoch 10/30\n",
      "1562/1562 [==============================] - 35s 22ms/step - loss: 0.3672 - acc: 0.8738 - val_loss: 0.5081 - val_acc: 0.8341\n",
      "Epoch 11/30\n",
      "1562/1562 [==============================] - 35s 22ms/step - loss: 0.3639 - acc: 0.8740 - val_loss: 0.5379 - val_acc: 0.8293\n",
      "Epoch 12/30\n",
      "1562/1562 [==============================] - 36s 23ms/step - loss: 0.3663 - acc: 0.8726 - val_loss: 0.5282 - val_acc: 0.8308\n",
      "Epoch 13/30\n",
      "1562/1562 [==============================] - 35s 22ms/step - loss: 0.3658 - acc: 0.8734 - val_loss: 0.5580 - val_acc: 0.8219\n",
      "Epoch 14/30\n",
      "1562/1562 [==============================] - 34s 22ms/step - loss: 0.3581 - acc: 0.8736 - val_loss: 0.5262 - val_acc: 0.8270\n",
      "Epoch 15/30\n",
      "1562/1562 [==============================] - 35s 22ms/step - loss: 0.3590 - acc: 0.8755 - val_loss: 0.5175 - val_acc: 0.8292\n",
      "Epoch 16/30\n",
      "1562/1562 [==============================] - 36s 23ms/step - loss: 0.3538 - acc: 0.8788 - val_loss: 0.5232 - val_acc: 0.8308\n",
      "Epoch 17/30\n",
      "1562/1562 [==============================] - 36s 23ms/step - loss: 0.3585 - acc: 0.8766 - val_loss: 0.5255 - val_acc: 0.8328\n",
      "Epoch 18/30\n",
      "1562/1562 [==============================] - 36s 23ms/step - loss: 0.3518 - acc: 0.8788 - val_loss: 0.5096 - val_acc: 0.8346\n",
      "Epoch 19/30\n",
      "1562/1562 [==============================] - 36s 23ms/step - loss: 0.3497 - acc: 0.8773 - val_loss: 0.5286 - val_acc: 0.8277\n",
      "Epoch 20/30\n",
      "1562/1562 [==============================] - 36s 23ms/step - loss: 0.3471 - acc: 0.8791 - val_loss: 0.5349 - val_acc: 0.8279\n",
      "Epoch 21/30\n",
      "1562/1562 [==============================] - 36s 23ms/step - loss: 0.3470 - acc: 0.8803 - val_loss: 0.5436 - val_acc: 0.8293\n",
      "Epoch 22/30\n",
      "1562/1562 [==============================] - 36s 23ms/step - loss: 0.3442 - acc: 0.8801 - val_loss: 0.4770 - val_acc: 0.8463\n",
      "Epoch 23/30\n",
      "1562/1562 [==============================] - 36s 23ms/step - loss: 0.3487 - acc: 0.8786 - val_loss: 0.5126 - val_acc: 0.8309\n",
      "Epoch 24/30\n",
      "1562/1562 [==============================] - 36s 23ms/step - loss: 0.3408 - acc: 0.8826 - val_loss: 0.4961 - val_acc: 0.8333\n",
      "Epoch 25/30\n",
      "1562/1562 [==============================] - 36s 23ms/step - loss: 0.3413 - acc: 0.8832 - val_loss: 0.5815 - val_acc: 0.8173\n",
      "Epoch 26/30\n",
      "1562/1562 [==============================] - 36s 23ms/step - loss: 0.3391 - acc: 0.8823 - val_loss: 0.5325 - val_acc: 0.8351\n",
      "Epoch 27/30\n",
      "1562/1562 [==============================] - 36s 23ms/step - loss: 0.3351 - acc: 0.8841 - val_loss: 0.5601 - val_acc: 0.8260\n",
      "Epoch 28/30\n",
      "1562/1562 [==============================] - 35s 23ms/step - loss: 0.3311 - acc: 0.8856 - val_loss: 0.5180 - val_acc: 0.8379\n",
      "Epoch 29/30\n",
      "1562/1562 [==============================] - 36s 23ms/step - loss: 0.3409 - acc: 0.8840 - val_loss: 0.5243 - val_acc: 0.8319\n",
      "Epoch 30/30\n",
      "1562/1562 [==============================] - 36s 23ms/step - loss: 0.3310 - acc: 0.8860 - val_loss: 0.5103 - val_acc: 0.8344\n"
     ]
    }
   ],
   "source": [
    "history = model.fit_generator(train_gen, \n",
    "                              epochs = 30, \n",
    "                              steps_per_epoch = x_train.shape[0] // batch_size_1,\n",
    "                              validation_data = val_gen,\n",
    "                              validation_steps = x_test.shape[0] // batch_size_1,\n",
    "                              verbose=1)"
   ]
  },
  {
   "cell_type": "code",
   "execution_count": 28,
   "metadata": {
    "colab": {
     "base_uri": "https://localhost:8080/",
     "height": 357
    },
    "colab_type": "code",
    "id": "A-mJfkgRHbI1",
    "outputId": "52d5271e-e695-4353-f2a4-dca72aabbd3e"
   },
   "outputs": [
    {
     "name": "stdout",
     "output_type": "stream",
     "text": [
      "Epoch 1/10\n",
      "1562/1562 [==============================] - 36s 23ms/step - loss: 0.3365 - acc: 0.8842 - val_loss: 0.5085 - val_acc: 0.8390\n",
      "Epoch 2/10\n",
      "1562/1562 [==============================] - 36s 23ms/step - loss: 0.3344 - acc: 0.8849 - val_loss: 0.5350 - val_acc: 0.8358\n",
      "Epoch 3/10\n",
      "1562/1562 [==============================] - 36s 23ms/step - loss: 0.3255 - acc: 0.8877 - val_loss: 0.4923 - val_acc: 0.8425\n",
      "Epoch 4/10\n",
      "1562/1562 [==============================] - 36s 23ms/step - loss: 0.3300 - acc: 0.8864 - val_loss: 0.5334 - val_acc: 0.8354\n",
      "Epoch 5/10\n",
      "1562/1562 [==============================] - 36s 23ms/step - loss: 0.3252 - acc: 0.8874 - val_loss: 0.5536 - val_acc: 0.8194\n",
      "Epoch 6/10\n",
      "1562/1562 [==============================] - 36s 23ms/step - loss: 0.3206 - acc: 0.8884 - val_loss: 0.5168 - val_acc: 0.8378\n",
      "Epoch 7/10\n",
      "1562/1562 [==============================] - 35s 22ms/step - loss: 0.3284 - acc: 0.8864 - val_loss: 0.5010 - val_acc: 0.8379\n",
      "Epoch 8/10\n",
      "1562/1562 [==============================] - 35s 23ms/step - loss: 0.3201 - acc: 0.8901 - val_loss: 0.5164 - val_acc: 0.8342\n",
      "Epoch 9/10\n",
      "1562/1562 [==============================] - 36s 23ms/step - loss: 0.3198 - acc: 0.8904 - val_loss: 0.5181 - val_acc: 0.8355\n",
      "Epoch 10/10\n",
      "1562/1562 [==============================] - 38s 25ms/step - loss: 0.3156 - acc: 0.8905 - val_loss: 0.5096 - val_acc: 0.8334\n"
     ]
    }
   ],
   "source": [
    "history = model.fit_generator(train_gen, \n",
    "                              epochs = 10, \n",
    "                              steps_per_epoch = x_train.shape[0] // batch_size_1,\n",
    "                              validation_data = val_gen,\n",
    "                              validation_steps = x_test.shape[0] // batch_size_1,\n",
    "                              verbose=1)"
   ]
  },
  {
   "cell_type": "code",
   "execution_count": 30,
   "metadata": {
    "colab": {
     "base_uri": "https://localhost:8080/",
     "height": 1000
    },
    "colab_type": "code",
    "id": "tyt285gdJiVR",
    "outputId": "d9cc5ffb-8e33-4748-f74b-bd06efd847e0"
   },
   "outputs": [
    {
     "name": "stdout",
     "output_type": "stream",
     "text": [
      "Epoch 1/30\n",
      "1562/1562 [==============================] - 38s 24ms/step - loss: 0.3209 - acc: 0.8901 - val_loss: 0.4989 - val_acc: 0.8396\n",
      "Epoch 2/30\n",
      "1562/1562 [==============================] - 36s 23ms/step - loss: 0.3175 - acc: 0.8897 - val_loss: 0.5194 - val_acc: 0.8344\n",
      "Epoch 3/30\n",
      "1562/1562 [==============================] - 37s 24ms/step - loss: 0.3169 - acc: 0.8910 - val_loss: 0.5193 - val_acc: 0.8356\n",
      "Epoch 4/30\n",
      "1562/1562 [==============================] - 37s 24ms/step - loss: 0.3113 - acc: 0.8920 - val_loss: 0.5191 - val_acc: 0.8404\n",
      "Epoch 5/30\n",
      "1562/1562 [==============================] - 36s 23ms/step - loss: 0.3139 - acc: 0.8920 - val_loss: 0.5575 - val_acc: 0.8235\n",
      "Epoch 6/30\n",
      "1562/1562 [==============================] - 37s 24ms/step - loss: 0.3122 - acc: 0.8921 - val_loss: 0.5489 - val_acc: 0.8278\n",
      "Epoch 7/30\n",
      "1562/1562 [==============================] - 36s 23ms/step - loss: 0.3140 - acc: 0.8921 - val_loss: 0.5278 - val_acc: 0.8368\n",
      "Epoch 8/30\n",
      "1562/1562 [==============================] - 37s 24ms/step - loss: 0.3093 - acc: 0.8930 - val_loss: 0.5016 - val_acc: 0.8374\n",
      "Epoch 9/30\n",
      "1562/1562 [==============================] - 36s 23ms/step - loss: 0.3080 - acc: 0.8935 - val_loss: 0.4967 - val_acc: 0.8441\n",
      "Epoch 10/30\n",
      "1562/1562 [==============================] - 36s 23ms/step - loss: 0.3077 - acc: 0.8943 - val_loss: 0.5270 - val_acc: 0.8350\n",
      "Epoch 11/30\n",
      "1562/1562 [==============================] - 36s 23ms/step - loss: 0.3018 - acc: 0.8939 - val_loss: 0.5200 - val_acc: 0.8395\n",
      "Epoch 12/30\n",
      "1562/1562 [==============================] - 36s 23ms/step - loss: 0.3050 - acc: 0.8948 - val_loss: 0.4952 - val_acc: 0.8381\n",
      "Epoch 13/30\n",
      "1562/1562 [==============================] - 36s 23ms/step - loss: 0.3002 - acc: 0.8961 - val_loss: 0.5090 - val_acc: 0.8452\n",
      "Epoch 14/30\n",
      "1562/1562 [==============================] - 36s 23ms/step - loss: 0.2999 - acc: 0.8961 - val_loss: 0.5106 - val_acc: 0.8391\n",
      "Epoch 15/30\n",
      "1562/1562 [==============================] - 36s 23ms/step - loss: 0.3064 - acc: 0.8939 - val_loss: 0.4874 - val_acc: 0.8486\n",
      "Epoch 16/30\n",
      "1562/1562 [==============================] - 36s 23ms/step - loss: 0.3017 - acc: 0.8962 - val_loss: 0.5041 - val_acc: 0.8475\n",
      "Epoch 17/30\n",
      "1562/1562 [==============================] - 36s 23ms/step - loss: 0.3012 - acc: 0.8961 - val_loss: 0.4860 - val_acc: 0.8427\n",
      "Epoch 18/30\n",
      "1562/1562 [==============================] - 36s 23ms/step - loss: 0.3015 - acc: 0.8947 - val_loss: 0.5433 - val_acc: 0.8290\n",
      "Epoch 19/30\n",
      "1562/1562 [==============================] - 36s 23ms/step - loss: 0.3031 - acc: 0.8970 - val_loss: 0.4986 - val_acc: 0.8448\n",
      "Epoch 20/30\n",
      "1562/1562 [==============================] - 36s 23ms/step - loss: 0.2946 - acc: 0.8989 - val_loss: 0.5146 - val_acc: 0.8365\n",
      "Epoch 21/30\n",
      "1562/1562 [==============================] - 36s 23ms/step - loss: 0.2994 - acc: 0.8976 - val_loss: 0.5318 - val_acc: 0.8427\n",
      "Epoch 22/30\n",
      "1562/1562 [==============================] - 35s 23ms/step - loss: 0.2948 - acc: 0.8988 - val_loss: 0.5445 - val_acc: 0.8317\n",
      "Epoch 23/30\n",
      "1562/1562 [==============================] - 36s 23ms/step - loss: 0.2965 - acc: 0.8970 - val_loss: 0.4792 - val_acc: 0.8488\n",
      "Epoch 24/30\n",
      "1562/1562 [==============================] - 35s 23ms/step - loss: 0.2966 - acc: 0.8976 - val_loss: 0.5347 - val_acc: 0.8339\n",
      "Epoch 25/30\n",
      "1562/1562 [==============================] - 38s 24ms/step - loss: 0.2980 - acc: 0.8987 - val_loss: 0.5033 - val_acc: 0.8429\n",
      "Epoch 26/30\n",
      "1562/1562 [==============================] - 37s 24ms/step - loss: 0.2939 - acc: 0.8998 - val_loss: 0.5108 - val_acc: 0.8382\n",
      "Epoch 27/30\n",
      "1562/1562 [==============================] - 37s 23ms/step - loss: 0.2998 - acc: 0.8986 - val_loss: 0.5311 - val_acc: 0.8367\n",
      "Epoch 28/30\n",
      "1562/1562 [==============================] - 37s 23ms/step - loss: 0.2931 - acc: 0.8986 - val_loss: 0.5080 - val_acc: 0.8409\n",
      "Epoch 29/30\n",
      "1562/1562 [==============================] - 36s 23ms/step - loss: 0.2911 - acc: 0.8985 - val_loss: 0.5526 - val_acc: 0.8313\n",
      "Epoch 30/30\n",
      "1562/1562 [==============================] - 36s 23ms/step - loss: 0.2906 - acc: 0.8999 - val_loss: 0.5497 - val_acc: 0.8340\n"
     ]
    }
   ],
   "source": [
    "history = model.fit_generator(train_gen, \n",
    "                              epochs = 30, \n",
    "                              steps_per_epoch = x_train.shape[0] // batch_size_1,\n",
    "                              validation_data = val_gen,\n",
    "                              validation_steps = x_test.shape[0] // batch_size_1,\n",
    "                              verbose=1)"
   ]
  },
  {
   "cell_type": "code",
   "execution_count": 34,
   "metadata": {
    "colab": {
     "base_uri": "https://localhost:8080/",
     "height": 357
    },
    "colab_type": "code",
    "id": "LX1dYblwOiiF",
    "outputId": "47cdaf0e-8f15-4b52-9775-9e7085c3600b"
   },
   "outputs": [
    {
     "name": "stdout",
     "output_type": "stream",
     "text": [
      "Epoch 1/10\n",
      "1562/1562 [==============================] - 35s 22ms/step - loss: 0.2878 - acc: 0.9000 - val_loss: 0.5004 - val_acc: 0.8420\n",
      "Epoch 2/10\n",
      "1562/1562 [==============================] - 36s 23ms/step - loss: 0.2903 - acc: 0.9002 - val_loss: 0.5062 - val_acc: 0.8354\n",
      "Epoch 3/10\n",
      "1562/1562 [==============================] - 36s 23ms/step - loss: 0.2882 - acc: 0.9009 - val_loss: 0.5018 - val_acc: 0.8463\n",
      "Epoch 4/10\n",
      "1562/1562 [==============================] - 34s 22ms/step - loss: 0.2882 - acc: 0.9016 - val_loss: 0.5073 - val_acc: 0.8408\n",
      "Epoch 5/10\n",
      "1562/1562 [==============================] - 35s 22ms/step - loss: 0.2846 - acc: 0.9024 - val_loss: 0.5215 - val_acc: 0.8409\n",
      "Epoch 6/10\n",
      "1562/1562 [==============================] - 34s 22ms/step - loss: 0.2886 - acc: 0.9012 - val_loss: 0.5385 - val_acc: 0.8352\n",
      "Epoch 7/10\n",
      "1562/1562 [==============================] - 34s 22ms/step - loss: 0.2915 - acc: 0.9000 - val_loss: 0.5087 - val_acc: 0.8392\n",
      "Epoch 8/10\n",
      "1562/1562 [==============================] - 34s 22ms/step - loss: 0.2844 - acc: 0.9031 - val_loss: 0.5617 - val_acc: 0.8296\n",
      "Epoch 9/10\n",
      "1562/1562 [==============================] - 34s 22ms/step - loss: 0.2822 - acc: 0.9044 - val_loss: 0.5252 - val_acc: 0.8353\n",
      "Epoch 10/10\n",
      "1562/1562 [==============================] - 34s 22ms/step - loss: 0.2895 - acc: 0.8994 - val_loss: 0.4856 - val_acc: 0.8515\n"
     ]
    }
   ],
   "source": [
    "history = model.fit_generator(train_gen, \n",
    "                              epochs = 10, \n",
    "                              steps_per_epoch = x_train.shape[0] // batch_size_1,\n",
    "                              validation_data = val_gen,\n",
    "                              validation_steps = x_test.shape[0] // batch_size_1,\n",
    "                              verbose=1)"
   ]
  },
  {
   "cell_type": "code",
   "execution_count": 36,
   "metadata": {
    "colab": {
     "base_uri": "https://localhost:8080/",
     "height": 1000
    },
    "colab_type": "code",
    "id": "tVZhjsODP_F4",
    "outputId": "a5fc5958-01fb-4314-ed46-ad60bce29b5f"
   },
   "outputs": [
    {
     "name": "stdout",
     "output_type": "stream",
     "text": [
      "Epoch 1/30\n",
      "1562/1562 [==============================] - 35s 22ms/step - loss: 0.2847 - acc: 0.9023 - val_loss: 0.4929 - val_acc: 0.8480\n",
      "Epoch 2/30\n",
      "1562/1562 [==============================] - 35s 22ms/step - loss: 0.2849 - acc: 0.9013 - val_loss: 0.5415 - val_acc: 0.8374\n",
      "Epoch 3/30\n",
      "1562/1562 [==============================] - 34s 22ms/step - loss: 0.2833 - acc: 0.9029 - val_loss: 0.5365 - val_acc: 0.8323\n",
      "Epoch 4/30\n",
      "1562/1562 [==============================] - 35s 23ms/step - loss: 0.2861 - acc: 0.9033 - val_loss: 0.4859 - val_acc: 0.8490\n",
      "Epoch 5/30\n",
      "1562/1562 [==============================] - 34s 22ms/step - loss: 0.2833 - acc: 0.9025 - val_loss: 0.5526 - val_acc: 0.8353\n",
      "Epoch 6/30\n",
      "1562/1562 [==============================] - 34s 22ms/step - loss: 0.2780 - acc: 0.9038 - val_loss: 0.5498 - val_acc: 0.8383\n",
      "Epoch 7/30\n",
      "1562/1562 [==============================] - 34s 22ms/step - loss: 0.2832 - acc: 0.9025 - val_loss: 0.5205 - val_acc: 0.8369\n",
      "Epoch 8/30\n",
      "1562/1562 [==============================] - 34s 22ms/step - loss: 0.2782 - acc: 0.9039 - val_loss: 0.4949 - val_acc: 0.8475\n",
      "Epoch 9/30\n",
      "1562/1562 [==============================] - 34s 22ms/step - loss: 0.2837 - acc: 0.9020 - val_loss: 0.4975 - val_acc: 0.8495\n",
      "Epoch 10/30\n",
      "1562/1562 [==============================] - 34s 22ms/step - loss: 0.2769 - acc: 0.9051 - val_loss: 0.5409 - val_acc: 0.8411\n",
      "Epoch 11/30\n",
      "1562/1562 [==============================] - 34s 22ms/step - loss: 0.2723 - acc: 0.9066 - val_loss: 0.5381 - val_acc: 0.8374\n",
      "Epoch 12/30\n",
      "1562/1562 [==============================] - 33s 21ms/step - loss: 0.2793 - acc: 0.9041 - val_loss: 0.5426 - val_acc: 0.8347\n",
      "Epoch 13/30\n",
      "1562/1562 [==============================] - 33s 21ms/step - loss: 0.2769 - acc: 0.9042 - val_loss: 0.4980 - val_acc: 0.8480\n",
      "Epoch 14/30\n",
      "1562/1562 [==============================] - 33s 21ms/step - loss: 0.2768 - acc: 0.9058 - val_loss: 0.5274 - val_acc: 0.8409\n",
      "Epoch 15/30\n",
      "1562/1562 [==============================] - 34s 21ms/step - loss: 0.2736 - acc: 0.9052 - val_loss: 0.5322 - val_acc: 0.8340\n",
      "Epoch 16/30\n",
      "1562/1562 [==============================] - 34s 22ms/step - loss: 0.2784 - acc: 0.9044 - val_loss: 0.5030 - val_acc: 0.8437\n",
      "Epoch 17/30\n",
      "1562/1562 [==============================] - 33s 21ms/step - loss: 0.2760 - acc: 0.9056 - val_loss: 0.5260 - val_acc: 0.8378\n",
      "Epoch 18/30\n",
      "1562/1562 [==============================] - 33s 21ms/step - loss: 0.2737 - acc: 0.9059 - val_loss: 0.5152 - val_acc: 0.8399\n",
      "Epoch 19/30\n",
      "1562/1562 [==============================] - 33s 21ms/step - loss: 0.2758 - acc: 0.9059 - val_loss: 0.5225 - val_acc: 0.8335\n",
      "Epoch 20/30\n",
      "1562/1562 [==============================] - 34s 22ms/step - loss: 0.2695 - acc: 0.9083 - val_loss: 0.5069 - val_acc: 0.8389\n",
      "Epoch 21/30\n",
      "1562/1562 [==============================] - 33s 21ms/step - loss: 0.2719 - acc: 0.9048 - val_loss: 0.5469 - val_acc: 0.8361\n",
      "Epoch 22/30\n",
      "1562/1562 [==============================] - 34s 22ms/step - loss: 0.2652 - acc: 0.9085 - val_loss: 0.5424 - val_acc: 0.8416\n",
      "Epoch 23/30\n",
      "1562/1562 [==============================] - 33s 21ms/step - loss: 0.2704 - acc: 0.9071 - val_loss: 0.4976 - val_acc: 0.8442\n",
      "Epoch 24/30\n",
      "1562/1562 [==============================] - 34s 22ms/step - loss: 0.2778 - acc: 0.9045 - val_loss: 0.5300 - val_acc: 0.8420\n",
      "Epoch 25/30\n",
      "1562/1562 [==============================] - 34s 22ms/step - loss: 0.2677 - acc: 0.9089 - val_loss: 0.5139 - val_acc: 0.8463\n",
      "Epoch 26/30\n",
      "1562/1562 [==============================] - 34s 22ms/step - loss: 0.2720 - acc: 0.9071 - val_loss: 0.4940 - val_acc: 0.8474\n",
      "Epoch 27/30\n",
      "1562/1562 [==============================] - 33s 21ms/step - loss: 0.2720 - acc: 0.9077 - val_loss: 0.5039 - val_acc: 0.8403\n",
      "Epoch 28/30\n",
      "1562/1562 [==============================] - 34s 22ms/step - loss: 0.2682 - acc: 0.9071 - val_loss: 0.5120 - val_acc: 0.8439\n",
      "Epoch 29/30\n",
      "1562/1562 [==============================] - 33s 21ms/step - loss: 0.2709 - acc: 0.9067 - val_loss: 0.5170 - val_acc: 0.8407\n",
      "Epoch 30/30\n",
      "1562/1562 [==============================] - 33s 21ms/step - loss: 0.2674 - acc: 0.9082 - val_loss: 0.5340 - val_acc: 0.8382\n"
     ]
    }
   ],
   "source": [
    "history = model.fit_generator(train_gen, \n",
    "                              epochs = 30, \n",
    "                              steps_per_epoch = x_train.shape[0] // batch_size_1,\n",
    "                              validation_data = val_gen,\n",
    "                              validation_steps = x_test.shape[0] // batch_size_1,\n",
    "                              verbose=1)"
   ]
  },
  {
   "cell_type": "code",
   "execution_count": 38,
   "metadata": {
    "colab": {
     "base_uri": "https://localhost:8080/",
     "height": 357
    },
    "colab_type": "code",
    "id": "wujO0JWKT_d_",
    "outputId": "7e689626-d2c3-4927-a771-cc343269ebf2"
   },
   "outputs": [
    {
     "name": "stdout",
     "output_type": "stream",
     "text": [
      "Epoch 1/10\n",
      "1562/1562 [==============================] - 33s 21ms/step - loss: 0.2680 - acc: 0.9076 - val_loss: 0.5281 - val_acc: 0.8424\n",
      "Epoch 2/10\n",
      "1562/1562 [==============================] - 33s 21ms/step - loss: 0.2650 - acc: 0.9099 - val_loss: 0.5415 - val_acc: 0.8497\n",
      "Epoch 3/10\n",
      "1562/1562 [==============================] - 34s 22ms/step - loss: 0.2632 - acc: 0.9106 - val_loss: 0.5074 - val_acc: 0.8479\n",
      "Epoch 4/10\n",
      "1562/1562 [==============================] - 33s 21ms/step - loss: 0.2666 - acc: 0.9076 - val_loss: 0.4859 - val_acc: 0.8474\n",
      "Epoch 5/10\n",
      "1562/1562 [==============================] - 33s 21ms/step - loss: 0.2631 - acc: 0.9090 - val_loss: 0.4963 - val_acc: 0.8467\n",
      "Epoch 6/10\n",
      "1562/1562 [==============================] - 33s 21ms/step - loss: 0.2613 - acc: 0.9100 - val_loss: 0.5285 - val_acc: 0.8452\n",
      "Epoch 7/10\n",
      "1562/1562 [==============================] - 34s 22ms/step - loss: 0.2654 - acc: 0.9087 - val_loss: 0.4996 - val_acc: 0.8475\n",
      "Epoch 8/10\n",
      "1562/1562 [==============================] - 33s 21ms/step - loss: 0.2600 - acc: 0.9101 - val_loss: 0.5260 - val_acc: 0.8448\n",
      "Epoch 9/10\n",
      "1562/1562 [==============================] - 33s 21ms/step - loss: 0.2605 - acc: 0.9100 - val_loss: 0.5036 - val_acc: 0.8447\n",
      "Epoch 10/10\n",
      "1562/1562 [==============================] - 33s 21ms/step - loss: 0.2691 - acc: 0.9076 - val_loss: 0.5387 - val_acc: 0.8329\n"
     ]
    }
   ],
   "source": [
    "history = model.fit_generator(train_gen, \n",
    "                              epochs = 10, \n",
    "                              steps_per_epoch = x_train.shape[0] // batch_size_1,\n",
    "                              validation_data = val_gen,\n",
    "                              validation_steps = x_test.shape[0] // batch_size_1,\n",
    "                              verbose=1)"
   ]
  },
  {
   "cell_type": "code",
   "execution_count": 42,
   "metadata": {
    "colab": {
     "base_uri": "https://localhost:8080/",
     "height": 357
    },
    "colab_type": "code",
    "id": "3zN4V-qSVrSl",
    "outputId": "00d86e9a-bc68-4227-8983-1ffbd7364e26"
   },
   "outputs": [
    {
     "name": "stdout",
     "output_type": "stream",
     "text": [
      "Epoch 1/10\n",
      "781/781 [==============================] - 16s 21ms/step - loss: 0.2552 - acc: 0.9104 - val_loss: 0.5150 - val_acc: 0.8476\n",
      "Epoch 2/10\n",
      "781/781 [==============================] - 16s 21ms/step - loss: 0.2688 - acc: 0.9073 - val_loss: 0.5174 - val_acc: 0.8450\n",
      "Epoch 3/10\n",
      "781/781 [==============================] - 17s 21ms/step - loss: 0.2508 - acc: 0.9129 - val_loss: 0.5193 - val_acc: 0.8485\n",
      "Epoch 4/10\n",
      "781/781 [==============================] - 16s 21ms/step - loss: 0.2614 - acc: 0.9084 - val_loss: 0.5049 - val_acc: 0.8472\n",
      "Epoch 5/10\n",
      "781/781 [==============================] - 17s 21ms/step - loss: 0.2616 - acc: 0.9122 - val_loss: 0.5392 - val_acc: 0.8467\n",
      "Epoch 6/10\n",
      "781/781 [==============================] - 16s 21ms/step - loss: 0.2673 - acc: 0.9108 - val_loss: 0.5709 - val_acc: 0.8333\n",
      "Epoch 7/10\n",
      "781/781 [==============================] - 17s 21ms/step - loss: 0.2543 - acc: 0.9128 - val_loss: 0.5308 - val_acc: 0.8459\n",
      "Epoch 8/10\n",
      "781/781 [==============================] - 16s 21ms/step - loss: 0.2664 - acc: 0.9077 - val_loss: 0.4834 - val_acc: 0.8450\n",
      "Epoch 9/10\n",
      "781/781 [==============================] - 17s 21ms/step - loss: 0.2554 - acc: 0.9113 - val_loss: 0.4822 - val_acc: 0.8505\n",
      "Epoch 10/10\n",
      "781/781 [==============================] - 16s 21ms/step - loss: 0.2593 - acc: 0.9114 - val_loss: 0.5344 - val_acc: 0.8472\n"
     ]
    }
   ],
   "source": [
    "batch_size_2=64\n",
    "history = model.fit_generator(train_gen, \n",
    "                              epochs = 10, \n",
    "                              steps_per_epoch = x_train.shape[0] // batch_size_2,\n",
    "                              validation_data = val_gen,\n",
    "                              validation_steps = x_test.shape[0] // batch_size_2,\n",
    "                              verbose=1)"
   ]
  },
  {
   "cell_type": "code",
   "execution_count": 43,
   "metadata": {
    "colab": {
     "base_uri": "https://localhost:8080/",
     "height": 51
    },
    "colab_type": "code",
    "id": "0qXsg_W5VgJM",
    "outputId": "6afde9a2-70eb-4fa1-d381-d9f5dca1f80f"
   },
   "outputs": [
    {
     "name": "stdout",
     "output_type": "stream",
     "text": [
      "10000/10000 [==============================] - 1s 120us/step\n",
      "Final loss: 0.4705, final accuracy: 0.8657\n"
     ]
    }
   ],
   "source": [
    "final_loss, final_acc = model.evaluate(x_test, y_test, verbose=1)\n",
    "print(\"Final loss: {0:.4f}, final accuracy: {1:.4f}\".format(final_loss, final_acc))"
   ]
  },
  {
   "cell_type": "code",
   "execution_count": 44,
   "metadata": {
    "colab": {
     "base_uri": "https://localhost:8080/",
     "height": 320
    },
    "colab_type": "code",
    "id": "EBR0AbRCVgJV",
    "outputId": "9f793408-b591-4b68-d35b-38facd4ad269"
   },
   "outputs": [
    {
     "data": {
      "image/png": "[encoded data removed]",
      "text/plain": [
       "<Figure size 360x360 with 2 Axes>"
      ]
     },
     "metadata": {
      "tags": []
     },
     "output_type": "display_data"
    }
   ],
   "source": [
    "# Plot the loss and accuracy curves for training and validation for last 10 epochs \n",
    "fig, ax = plt.subplots(2,1, figsize=(5, 5))\n",
    "ax[0].plot(history.history['loss'], color='b', label=\"Training loss\")\n",
    "ax[0].plot(history.history['val_loss'], color='r', label=\"validation loss\",axes =ax[0])\n",
    "legend = ax[0].legend(loc='best', shadow=True)\n",
    "\n",
    "ax[1].plot(history.history['acc'], color='b', label=\"Training accuracy\")\n",
    "ax[1].plot(history.history['val_acc'], color='r',label=\"Validation accuracy\")\n",
    "legend = ax[1].legend(loc='best', shadow=True)"
   ]
  },
  {
   "cell_type": "code",
   "execution_count": 0,
   "metadata": {
    "colab": {},
    "colab_type": "code",
    "id": "AG9ZjTILVgJ_"
   },
   "outputs": [],
   "source": [
    "model.save_weights('cifar10_model_2.h5')"
   ]
  },
  {
   "cell_type": "code",
   "execution_count": 0,
   "metadata": {
    "colab": {},
    "colab_type": "code",
    "id": "y6b7HfHHODm5"
   },
   "outputs": [],
   "source": []
  }
 ],
 "metadata": {
  "accelerator": "GPU",
  "colab": {
   "collapsed_sections": [],
   "name": "cifar10_1.ipynb",
   "provenance": []
  },
  "kernelspec": {
   "display_name": "Python 3",
   "language": "python",
   "name": "python3"
  },
  "language_info": {
   "codemirror_mode": {
    "name": "ipython",
    "version": 3
   },
   "file_extension": ".py",
   "mimetype": "text/x-python",
   "name": "python",
   "nbconvert_exporter": "python",
   "pygments_lexer": "ipython3",
   "version": "3.7.3"
  }
 },
 "nbformat": 4,
 "nbformat_minor": 1
}
